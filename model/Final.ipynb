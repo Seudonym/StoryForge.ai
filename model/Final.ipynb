{
 "cells": [
  {
   "cell_type": "code",
   "execution_count": null,
   "id": "974b80dc",
   "metadata": {},
   "outputs": [],
   "source": [
    "!pip install torch==1.13.1 torchvision==0.14.1"
   ]
  },
  {
   "cell_type": "markdown",
   "id": "a54dde55",
   "metadata": {},
   "source": [
    "## This notebook was run on an Intel VM instance(20GB diskspace, 4th Gen Xeon Processor with 8 cores), thanks to IDC"
   ]
  },
  {
   "cell_type": "code",
   "execution_count": null,
   "id": "69fef22e",
   "metadata": {},
   "outputs": [],
   "source": [
    "!pip install intel_extension_for_pytorch==1.13.100"
   ]
  },
  {
   "cell_type": "code",
   "execution_count": 1,
   "id": "a5e3527c",
   "metadata": {},
   "outputs": [],
   "source": [
    "import torch\n",
    "import intel_extension_for_pytorch as ipex"
   ]
  },
  {
   "cell_type": "code",
   "execution_count": 2,
   "id": "f0608a89",
   "metadata": {},
   "outputs": [],
   "source": [
    "from torch.utils.data import Dataset\n",
    "import json\n",
    "\n",
    "class StoryData(Dataset):\n",
    "    def __init__(self, path, tokenizer):\n",
    "        self.data = open(path, 'r')\n",
    "        \n",
    "        self.dataa = []\n",
    "        count = 0\n",
    "        curr = \"\"\n",
    "        for line in self.data:\n",
    "            if line == \"\": break\n",
    "            if line == \"<|endoftext|>\\n\":\n",
    "                self.dataa.append(curr)\n",
    "                curr = \"\"\n",
    "                count += 1\n",
    "                if count == 100: break\n",
    "                continue\n",
    "            \n",
    "            curr += line.strip() + \" \"\n",
    "\n",
    "        self.X = []      \n",
    "\n",
    "        for i in self.dataa:\n",
    "                self.X.append(i)\n",
    "        \n",
    "        for idx, i in enumerate(self.X):\n",
    "            try:\n",
    "                self.X[idx] = \"<bos> \" + i + \"<bot>: \" + self.X[idx + 1] + \" <eos>\"\n",
    "            except:\n",
    "                break \n",
    "        \n",
    "        self.X = self.X[:1000]\n",
    "        # print(self.X[0])\n",
    "        \n",
    "        self.X_encoded = tokenizer(self.X, max_length=60, truncation=True, padding=\"max_length\", return_tensors=\"pt\")\n",
    "        self.input_ids = self.X_encoded['input_ids']\n",
    "        self.attention_mask = self.X_encoded['attention_mask']\n",
    "        \n",
    "    def __len__(self):\n",
    "        return len(self.X)\n",
    "    \n",
    "    def __getitem__(self, idx):\n",
    "        return (self.input_ids[idx], self.attention_mask[idx])"
   ]
  },
  {
   "cell_type": "code",
   "execution_count": 7,
   "id": "79d0a257",
   "metadata": {},
   "outputs": [],
   "source": [
    "from transformers import GPT2Tokenizer, GPT2LMHeadModel\n",
    "from torch.optim import Adam\n",
    "from torch.utils.data import DataLoader\n",
    "import torch\n",
    "from tqdm import tqdm as tqdm\n",
    "\n",
    "def train(storyData, model, optim):\n",
    "    epochs = 10\n",
    "    for i in (range(epochs)):\n",
    "        for X, a in storyData:\n",
    "            X = X.to(device)\n",
    "            a = a.to(device)\n",
    "            optim.zero_grad()\n",
    "            loss = model(X, attention_mask=a, labels=X).loss\n",
    "            loss.backward()\n",
    "            optim.step()\n",
    "        torch.save(model.state_dict(), \"model_state.pt\") \n",
    "\n",
    "def infer(inp):\n",
    "    inp = \"<bos> \" + inp + \"<bot>: \"\n",
    "    inp = tokenizer(inp, return_tensors=\"pt\")\n",
    "    X = inp['input_ids'].to(device)\n",
    "    a = inp['attention_mask'].to(device)\n",
    "    output = model.generate(X, attention_mask=a, max_new_tokens=10)\n",
    "    output = tokenizer.decode(output[0])\n",
    "    return output\n",
    "\n",
    "device = \"xpu\" if torch.cuda.is_available() else \"mps\" if torch.backends.mps.is_available() else \"cpu\"\n",
    "\n",
    "tokenizer = GPT2Tokenizer.from_pretrained('gpt2')\n",
    "tokenizer.add_special_tokens({\"pad_token\": \"<pad>\",\n",
    "                              \"bos_token\": \"<bos>\",\n",
    "                              \"eos_token\": \"<eos>\"})\n",
    "tokenizer.add_tokens([\"<bot>:\"])\n",
    "\n",
    "model = GPT2LMHeadModel.from_pretrained('gpt2')\n",
    "model.resize_token_embeddings(len(tokenizer))\n",
    "model = model.to(device)\n",
    "\n",
    "\n",
    "storyData = StoryData(\"data1.txt\", tokenizer)\n",
    "storyData = DataLoader(storyData, batch_size=32)\n",
    "\n",
    "optim = Adam(model.parameters(), lr=1e-3)"
   ]
  },
  {
   "cell_type": "code",
   "execution_count": 4,
   "id": "1c1382c7",
   "metadata": {},
   "outputs": [],
   "source": [
    "import time"
   ]
  },
  {
   "cell_type": "code",
   "execution_count": 5,
   "id": "10e9d1bd",
   "metadata": {},
   "outputs": [
    {
     "data": {
      "text/plain": [
       "101.20051460200011"
      ]
     },
     "execution_count": 5,
     "metadata": {},
     "output_type": "execute_result"
    }
   ],
   "source": [
    "# Without intel oneapi\n",
    "start = time.perf_counter()\n",
    "\n",
    "train(storyData, model, optim)\n",
    "\n",
    "end = time.perf_counter()\n",
    "\n",
    "end-start"
   ]
  },
  {
   "cell_type": "code",
   "execution_count": 8,
   "id": "58d1098e",
   "metadata": {},
   "outputs": [],
   "source": [
    "# Use intel ipex to optimize model training\n",
    "model = ipex.optimize(model)"
   ]
  },
  {
   "cell_type": "code",
   "execution_count": 9,
   "id": "c5fc3887",
   "metadata": {},
   "outputs": [
    {
     "data": {
      "text/plain": [
       "78.67482862799989"
      ]
     },
     "execution_count": 9,
     "metadata": {},
     "output_type": "execute_result"
    }
   ],
   "source": [
    "start = time.perf_counter()\n",
    "\n",
    "train(storyData, model, optim)\n",
    "\n",
    "end = time.perf_counter()\n",
    "\n",
    "end-start"
   ]
  },
  {
   "cell_type": "markdown",
   "id": "b5372198",
   "metadata": {},
   "source": [
    "### As we can see, the time taken to train a GPT2 model with a custom dataset, was significantly faster using Intel's PyTorch Extensions, thanks to OneAPI. One average, IPEX was 25% faster during model training, with the dataset we used."
   ]
  },
  {
   "cell_type": "code",
   "execution_count": null,
   "id": "fc64ed7e",
   "metadata": {},
   "outputs": [],
   "source": [
    "while True:\n",
    "    inp = input(\"You: \")\n",
    "    print(\"Bot:\", infer(inp))"
   ]
  },
  {
   "cell_type": "code",
   "execution_count": null,
   "id": "95024f93",
   "metadata": {},
   "outputs": [],
   "source": []
  }
 ],
 "metadata": {
  "kernelspec": {
   "display_name": "Python 3 (ipykernel)",
   "language": "python",
   "name": "python3"
  },
  "language_info": {
   "codemirror_mode": {
    "name": "ipython",
    "version": 3
   },
   "file_extension": ".py",
   "mimetype": "text/x-python",
   "name": "python",
   "nbconvert_exporter": "python",
   "pygments_lexer": "ipython3",
   "version": "3.10.12"
  }
 },
 "nbformat": 4,
 "nbformat_minor": 5
}
